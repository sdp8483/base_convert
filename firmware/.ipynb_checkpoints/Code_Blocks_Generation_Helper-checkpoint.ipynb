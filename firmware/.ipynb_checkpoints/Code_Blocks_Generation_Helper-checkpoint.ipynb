{
 "cells": [
  {
   "cell_type": "code",
   "execution_count": 1,
   "metadata": {
    "collapsed": true
   },
   "outputs": [],
   "source": [
    "# Used to generate some blocks of repetative code.\n",
    "# Copy paste output into CCS"
   ]
  },
  {
   "cell_type": "code",
   "execution_count": 4,
   "metadata": {},
   "outputs": [
    {
     "name": "stdout",
     "output_type": "stream",
     "text": [
      "D0PORT |= D0PIN;\n",
      "D0DIR  |= D0PIN;\n",
      "D1PORT |= D1PIN;\n",
      "D1DIR  |= D1PIN;\n",
      "D2PORT |= D2PIN;\n",
      "D2DIR  |= D2PIN;\n",
      "D3PORT |= D3PIN;\n",
      "D3DIR  |= D3PIN;\n",
      "D4PORT |= D4PIN;\n",
      "D4DIR  |= D4PIN;\n",
      "D5PORT |= D5PIN;\n",
      "D5DIR  |= D5PIN;\n",
      "D6PORT |= D6PIN;\n",
      "D6DIR  |= D6PIN;\n",
      "D7PORT |= D7PIN;\n",
      "D7DIR  |= D7PIN;\n",
      "D8PORT |= D8PIN;\n",
      "D8DIR  |= D8PIN;\n",
      "D9PORT |= D9PIN;\n",
      "D9DIR  |= D9PIN;\n"
     ]
    }
   ],
   "source": [
    "# Setup digit pins\n",
    "for digit in xrange(0,10):\n",
    "    print \"D{}PORT |= D{}PIN;\".format(digit, digit)\n",
    "    print \"D{}DIR  |= D{}PIN;\".format(digit, digit)"
   ]
  },
  {
   "cell_type": "code",
   "execution_count": 9,
   "metadata": {},
   "outputs": [
    {
     "name": "stdout",
     "output_type": "stream",
     "text": [
      "#define N0DIR   P7DIR\n",
      "#define N0PORT  P7OUT\n",
      "#define N0PIN   BIT0\n",
      "#define N1DIR   P7DIR\n",
      "#define N1PORT  P7OUT\n",
      "#define N1PIN   BIT1\n",
      "#define N2DIR   P7DIR\n",
      "#define N2PORT  P7OUT\n",
      "#define N2PIN   BIT2\n",
      "#define N3DIR   P7DIR\n",
      "#define N3PORT  P7OUT\n",
      "#define N3PIN   BIT3\n"
     ]
    }
   ],
   "source": [
    "# BIN display nibble defines\n",
    "for i in xrange(0,4):\n",
    "    print \"#define N{}DIR   P7DIR\".format(i)\n",
    "    print \"#define N{}PORT  P7OUT\".format(i)\n",
    "    print \"#define N{}PIN   BIT{}\".format(i, i)"
   ]
  },
  {
   "cell_type": "code",
   "execution_count": 10,
   "metadata": {},
   "outputs": [
    {
     "name": "stdout",
     "output_type": "stream",
     "text": [
      "#define B0DIR   P7DIR\n",
      "#define B0PORT  P7OUT\n",
      "#define B0PIN   BIT4\n",
      "#define B1DIR   P7DIR\n",
      "#define B1PORT  P7OUT\n",
      "#define B1PIN   BIT5\n",
      "#define B2DIR   P7DIR\n",
      "#define B2PORT  P7OUT\n",
      "#define B2PIN   BIT6\n",
      "#define B3DIR   P7DIR\n",
      "#define B3PORT  P7OUT\n",
      "#define B3PIN   BIT7\n"
     ]
    }
   ],
   "source": [
    "# BIN display bit defines\n",
    "for i in xrange(0,4):\n",
    "    print \"#define B{}DIR   P7DIR\".format(i)\n",
    "    print \"#define B{}PORT  P7OUT\".format(i)\n",
    "    print \"#define B{}PIN   BIT{}\".format(i, i+4)"
   ]
  },
  {
   "cell_type": "code",
   "execution_count": 12,
   "metadata": {},
   "outputs": [
    {
     "name": "stdout",
     "output_type": "stream",
     "text": [
      "N0PORT |= N0PIN;\n",
      "N0DIR  |= N0PIN;\n",
      "N1PORT |= N1PIN;\n",
      "N1DIR  |= N1PIN;\n",
      "N2PORT |= N2PIN;\n",
      "N2DIR  |= N2PIN;\n",
      "N3PORT |= N3PIN;\n",
      "N3DIR  |= N3PIN;\n"
     ]
    }
   ],
   "source": [
    "# setup nibble pins\n",
    "for i in xrange(0,4):\n",
    "    print \"N{}PORT |= N{}PIN;\".format(i, i)\n",
    "    print \"N{}DIR  |= N{}PIN;\".format(i, i)"
   ]
  },
  {
   "cell_type": "code",
   "execution_count": 13,
   "metadata": {},
   "outputs": [
    {
     "name": "stdout",
     "output_type": "stream",
     "text": [
      "B0PORT &= ~B0PIN;\n",
      "B0DIR  |= B0PIN;\n",
      "B1PORT &= ~B1PIN;\n",
      "B1DIR  |= B1PIN;\n",
      "B2PORT &= ~B2PIN;\n",
      "B2DIR  |= B2PIN;\n",
      "B3PORT &= ~B3PIN;\n",
      "B3DIR  |= B3PIN;\n"
     ]
    }
   ],
   "source": [
    "# setup bit pins\n",
    "for i in xrange(0, 4):\n",
    "    print \"B{}PORT &= ~B{}PIN;\".format(i, i)\n",
    "    print \"B{}DIR  |= B{}PIN;\".format(i, i)"
   ]
  },
  {
   "cell_type": "code",
   "execution_count": 14,
   "metadata": {},
   "outputs": [
    {
     "name": "stdout",
     "output_type": "stream",
     "text": [
      "case(0):\n",
      "    return ZERO;\n",
      "    break;\n",
      "case(1):\n",
      "    return ONE;\n",
      "    break;\n",
      "case(2):\n",
      "    return TWO;\n",
      "    break;\n",
      "case(3):\n",
      "    return THREE;\n",
      "    break;\n",
      "case(4):\n",
      "    return FOUR;\n",
      "    break;\n",
      "case(5):\n",
      "    return FIVE;\n",
      "    break;\n",
      "case(6):\n",
      "    return SIX;\n",
      "    break;\n",
      "case(7):\n",
      "    return SEVEN;\n",
      "    break;\n",
      "case(8):\n",
      "    return EIGHT;\n",
      "    break;\n",
      "case(9):\n",
      "    return NINE;\n",
      "    break;\n",
      "case(10):\n",
      "    return HEX_A;\n",
      "    break;\n",
      "case(11):\n",
      "    return HEX_B;\n",
      "    break;\n",
      "case(12):\n",
      "    return HEX_C;\n",
      "    break;\n",
      "case(13):\n",
      "    return HEX_D;\n",
      "    break;\n",
      "case(14):\n",
      "    return HEX_E;\n",
      "    break;\n",
      "case(15):\n",
      "    return HEX_F;\n",
      "    break;\n"
     ]
    }
   ],
   "source": [
    "# dispSegments\n",
    "val = ['ZERO', 'ONE', 'TWO', 'THREE', 'FOUR', 'FIVE', 'SIX', 'SEVEN', 'EIGHT', 'NINE', \n",
    "       'HEX_A', 'HEX_B', 'HEX_C', 'HEX_D', 'HEX_E', 'HEX_F']\n",
    "\n",
    "for i,j in zip(xrange(0, 16), val):\n",
    "    print \"case({}):\".format(i)\n",
    "    print \"    return {};\".format(j)\n",
    "    print \"    break;\""
   ]
  },
  {
   "cell_type": "code",
   "execution_count": null,
   "metadata": {
    "collapsed": true
   },
   "outputs": [],
   "source": []
  }
 ],
 "metadata": {
  "kernelspec": {
   "display_name": "Python 2",
   "language": "python",
   "name": "python2"
  },
  "language_info": {
   "codemirror_mode": {
    "name": "ipython",
    "version": 2
   },
   "file_extension": ".py",
   "mimetype": "text/x-python",
   "name": "python",
   "nbconvert_exporter": "python",
   "pygments_lexer": "ipython2",
   "version": "2.7.13"
  }
 },
 "nbformat": 4,
 "nbformat_minor": 2
}
